{
 "cells": [
  {
   "cell_type": "markdown",
   "id": "eae851b7-8b70-4a35-80fb-b7c548032b80",
   "metadata": {},
   "source": [
    "# Course 6 - tf-idf and Word2vec"
   ]
  },
  {
   "cell_type": "markdown",
   "id": "75105c54-aac1-4011-9a59-00ab4cc31798",
   "metadata": {},
   "source": [
    "## Import librairies and dataset"
   ]
  },
  {
   "cell_type": "code",
   "execution_count": null,
   "id": "6e5db8ef-d13e-459e-9843-d1424f42b23b",
   "metadata": {},
   "outputs": [],
   "source": [
    "#!pip install pandas seaborn matplotlib scikit-learn gensim eli5 tiktoken spacy gensim"
   ]
  },
  {
   "cell_type": "code",
   "execution_count": 1,
   "id": "a685ce16-8bbd-4493-a961-e4004f2526e3",
   "metadata": {},
   "outputs": [
    {
     "name": "stderr",
     "output_type": "stream",
     "text": [
      "/home/gcortal/anaconda3/envs/epita/lib/python3.9/site-packages/tqdm/auto.py:21: TqdmWarning: IProgress not found. Please update jupyter and ipywidgets. See https://ipywidgets.readthedocs.io/en/stable/user_install.html\n",
      "  from .autonotebook import tqdm as notebook_tqdm\n",
      "/home/gcortal/anaconda3/envs/epita/lib/python3.9/site-packages/torch/cuda/__init__.py:141: UserWarning: CUDA initialization: CUDA unknown error - this may be due to an incorrectly set up environment, e.g. changing env variable CUDA_VISIBLE_DEVICES after program start. Setting the available devices to be zero. (Triggered internally at /opt/conda/conda-bld/pytorch_1708025831482/work/c10/cuda/CUDAFunctions.cpp:108.)\n",
      "  return torch._C._cuda_getDeviceCount() > 0\n"
     ]
    }
   ],
   "source": [
    "import pandas as pd\n",
    "import seaborn as sns\n",
    "import matplotlib.pyplot as plt\n",
    "from datasets import load_dataset\n",
    "from nltk import word_tokenize, sent_tokenize          \n",
    "from nltk.stem import WordNetLemmatizer \n",
    "import tiktoken\n",
    "import eli5\n",
    "import numpy as np\n",
    "\n",
    "from gensim.test.utils import common_texts\n",
    "from gensim.models import Word2Vec\n",
    "from gensim.models import KeyedVectors\n",
    "import gensim.downloader\n",
    "\n",
    "from sklearn.model_selection import train_test_split, cross_val_score, GridSearchCV, StratifiedKFold\n",
    "from sklearn.feature_extraction.text import CountVectorizer, TfidfVectorizer, TfidfTransformer\n",
    "from sklearn.naive_bayes import MultinomialNB\n",
    "from sklearn.pipeline import make_pipeline\n",
    "from sklearn.metrics import classification_report, accuracy_score, ConfusionMatrixDisplay, confusion_matrix\n",
    "from sklearn.utils.class_weight import compute_sample_weight\n",
    "from sklearn.linear_model import LogisticRegression\n",
    "from sklearn.preprocessing import StandardScaler\n",
    "from sklearn.ensemble import VotingClassifier\n",
    "\n",
    "from spacy.lang.fr.stop_words import STOP_WORDS as fr_stop\n",
    "from spacy.lang.en.stop_words import STOP_WORDS as en_stop"
   ]
  },
  {
   "cell_type": "code",
   "execution_count": 2,
   "id": "9592edd5-f84f-4165-b7e9-fdd4ac3947a3",
   "metadata": {},
   "outputs": [
    {
     "data": {
      "text/html": [
       "<div>\n",
       "<style scoped>\n",
       "    .dataframe tbody tr th:only-of-type {\n",
       "        vertical-align: middle;\n",
       "    }\n",
       "\n",
       "    .dataframe tbody tr th {\n",
       "        vertical-align: top;\n",
       "    }\n",
       "\n",
       "    .dataframe thead th {\n",
       "        text-align: right;\n",
       "    }\n",
       "</style>\n",
       "<table border=\"1\" class=\"dataframe\">\n",
       "  <thead>\n",
       "    <tr style=\"text-align: right;\">\n",
       "      <th></th>\n",
       "      <th>report</th>\n",
       "      <th>emotion</th>\n",
       "    </tr>\n",
       "  </thead>\n",
       "  <tbody>\n",
       "    <tr>\n",
       "      <th>1268</th>\n",
       "      <td>I am in a wheelchair, going to a doctor's appo...</td>\n",
       "      <td>AN D</td>\n",
       "    </tr>\n",
       "    <tr>\n",
       "      <th>15038</th>\n",
       "      <td>I was studying somewhere. My chemistry exam wa...</td>\n",
       "      <td>AP D</td>\n",
       "    </tr>\n",
       "    <tr>\n",
       "      <th>20615</th>\n",
       "      <td>My first thought on being awakened was that it...</td>\n",
       "      <td>HA D</td>\n",
       "    </tr>\n",
       "    <tr>\n",
       "      <th>4563</th>\n",
       "      <td>[\"Juvies defy me.\"] I am a substitute teacher ...</td>\n",
       "      <td>HA D</td>\n",
       "    </tr>\n",
       "    <tr>\n",
       "      <th>26969</th>\n",
       "      <td>It was a dream where I was at a pizza place an...</td>\n",
       "      <td>AN D</td>\n",
       "    </tr>\n",
       "  </tbody>\n",
       "</table>\n",
       "</div>"
      ],
      "text/plain": [
       "                                                  report emotion\n",
       "1268   I am in a wheelchair, going to a doctor's appo...    AN D\n",
       "15038  I was studying somewhere. My chemistry exam wa...    AP D\n",
       "20615  My first thought on being awakened was that it...    HA D\n",
       "4563   [\"Juvies defy me.\"] I am a substitute teacher ...    HA D\n",
       "26969  It was a dream where I was at a pizza place an...    AN D"
      ]
     },
     "execution_count": 2,
     "metadata": {},
     "output_type": "execute_result"
    }
   ],
   "source": [
    "dataset = load_dataset(\"gustavecortal/DreamBank-annotated\")\n",
    "df = dataset[\"train\"].to_pandas()\n",
    "df = df.sample(frac = 1)\n",
    "df[\"report\"] = df[\"report\"].astype(str)\n",
    "df = df.query(\"emotion == 'CO D' or emotion == 'AN D' or emotion == 'SD D' or emotion == 'AP D' or emotion == 'HA D'\")[[\"report\", \"emotion\"]]\n",
    "df.head()"
   ]
  },
  {
   "cell_type": "markdown",
   "id": "3a162457-ae00-48c0-bf6d-ab2c38ddec5f",
   "metadata": {},
   "source": [
    "## Preprocessing and visualization"
   ]
  },
  {
   "cell_type": "markdown",
   "id": "59efd75a-6d2a-4709-a2e7-1bc4d355b4ec",
   "metadata": {},
   "source": [
    "Convert code to emotion class according to the annotation guideline : https://dreams.ucsc.edu/Coding/emotions.html"
   ]
  },
  {
   "cell_type": "code",
   "execution_count": 3,
   "id": "e0af0d38-75fb-45f7-9103-4cb0c6c41139",
   "metadata": {},
   "outputs": [
    {
     "data": {
      "text/html": [
       "<div>\n",
       "<style scoped>\n",
       "    .dataframe tbody tr th:only-of-type {\n",
       "        vertical-align: middle;\n",
       "    }\n",
       "\n",
       "    .dataframe tbody tr th {\n",
       "        vertical-align: top;\n",
       "    }\n",
       "\n",
       "    .dataframe thead th {\n",
       "        text-align: right;\n",
       "    }\n",
       "</style>\n",
       "<table border=\"1\" class=\"dataframe\">\n",
       "  <thead>\n",
       "    <tr style=\"text-align: right;\">\n",
       "      <th></th>\n",
       "      <th>report</th>\n",
       "      <th>emotion</th>\n",
       "    </tr>\n",
       "  </thead>\n",
       "  <tbody>\n",
       "    <tr>\n",
       "      <th>1268</th>\n",
       "      <td>i am in a wheelchair, going to a doctor's appo...</td>\n",
       "      <td>anger</td>\n",
       "    </tr>\n",
       "    <tr>\n",
       "      <th>15038</th>\n",
       "      <td>i was studying somewhere. my chemistry exam wa...</td>\n",
       "      <td>fear</td>\n",
       "    </tr>\n",
       "    <tr>\n",
       "      <th>20615</th>\n",
       "      <td>my first thought on being awakened was that it...</td>\n",
       "      <td>happiness</td>\n",
       "    </tr>\n",
       "    <tr>\n",
       "      <th>4563</th>\n",
       "      <td>[\"juvies defy me.\"] i am a substitute teacher ...</td>\n",
       "      <td>happiness</td>\n",
       "    </tr>\n",
       "    <tr>\n",
       "      <th>26969</th>\n",
       "      <td>it was a dream where i was at a pizza place an...</td>\n",
       "      <td>anger</td>\n",
       "    </tr>\n",
       "  </tbody>\n",
       "</table>\n",
       "</div>"
      ],
      "text/plain": [
       "                                                  report    emotion\n",
       "1268   i am in a wheelchair, going to a doctor's appo...      anger\n",
       "15038  i was studying somewhere. my chemistry exam wa...       fear\n",
       "20615  my first thought on being awakened was that it...  happiness\n",
       "4563   [\"juvies defy me.\"] i am a substitute teacher ...  happiness\n",
       "26969  it was a dream where i was at a pizza place an...      anger"
      ]
     },
     "execution_count": 3,
     "metadata": {},
     "output_type": "execute_result"
    }
   ],
   "source": [
    "def to_emotion_class(emotion):\n",
    "    \n",
    "    if emotion == \"AP D\":\n",
    "        return \"fear\"\n",
    "    elif emotion == \"CO D\":\n",
    "        return \"confusion\"\n",
    "    elif emotion == \"SD D\":\n",
    "        return \"sadness\"\n",
    "    elif emotion == \"AN D\":\n",
    "        return \"anger\"\n",
    "    else:\n",
    "        return \"happiness\"\n",
    "\n",
    "df[\"emotion\"] = df[\"emotion\"].apply(lambda x: to_emotion_class(x))\n",
    "df[\"report\"] = df[\"report\"].apply(lambda x: x.lower()) # simple preprocessing (lowercase only)\n",
    "df.head()"
   ]
  },
  {
   "cell_type": "code",
   "execution_count": 4,
   "id": "3df000fd-33c6-4b49-b53c-c26a005dded3",
   "metadata": {},
   "outputs": [
    {
     "data": {
      "image/png": "[encoded data removed]",
      "text/plain": [
       "<Figure size 1000x600 with 1 Axes>"
      ]
     },
     "metadata": {},
     "output_type": "display_data"
    }
   ],
   "source": [
    "plt.figure(figsize=(10, 6))\n",
    "sns.countplot(x='emotion', data=df)\n",
    "\n",
    "plt.title('Distribution of emotions') \n",
    "plt.xlabel('Emotion')\n",
    "plt.ylabel('Count')\n",
    "plt.xticks(rotation=45)\n",
    "\n",
    "plt.show()"
   ]
  },
  {
   "cell_type": "markdown",
   "id": "3e08814e-9ab5-4eb9-aa39-5974fcd70db4",
   "metadata": {},
   "source": [
    "## Training Word2vec"
   ]
  },
  {
   "cell_type": "code",
   "execution_count": 5,
   "id": "4e8a6e6d-1c0a-476c-95ec-638e824d5b3f",
   "metadata": {},
   "outputs": [],
   "source": [
    "X_list = list(df[\"report\"])\n",
    "X_strings = \" \".join(X_list)\n",
    "X_sents = sent_tokenize(X_strings)\n",
    "X_sents = [word_tokenize(s) for s in X_sents]"
   ]
  },
  {
   "cell_type": "code",
   "execution_count": 6,
   "id": "2316cf8f-23f8-4445-bfbf-e786a5efc47f",
   "metadata": {},
   "outputs": [],
   "source": [
    "model = Word2Vec(sentences=X_sents, vector_size=50, window=5, min_count=5, workers=4)\n",
    "#model = Word2Vec(sentences=X_sents, vector_size=100, window=5, min_count=5, workers=4)\n",
    "\n",
    "word_vectors = model.wv\n",
    "word_vectors.save(\"word2vec.wordvectors\") # Store the words and their trained embeddings\n",
    "del model"
   ]
  },
  {
   "cell_type": "code",
   "execution_count": 7,
   "id": "9fa17e28-c88b-455a-ab32-c33f11d6d1be",
   "metadata": {},
   "outputs": [
    {
     "data": {
      "text/plain": [
       "[('college', 0.8511099219322205),\n",
       " ('university', 0.7597227096557617),\n",
       " ('westport', 0.7338651418685913),\n",
       " ('church', 0.6870197057723999),\n",
       " ('library', 0.6676742434501648),\n",
       " ('party', 0.6627900004386902),\n",
       " ('hospital', 0.6624340415000916),\n",
       " ('class', 0.6420021653175354),\n",
       " ('city', 0.6385878920555115),\n",
       " ('meeting', 0.6381309628486633)]"
      ]
     },
     "execution_count": 7,
     "metadata": {},
     "output_type": "execute_result"
    }
   ],
   "source": [
    "wv = KeyedVectors.load(\"word2vec.wordvectors\", mmap='r')\n",
    "vector = wv['war']\n",
    "sims = wv.most_similar('school', topn=10)\n",
    "sims"
   ]
  },
  {
   "cell_type": "markdown",
   "id": "1d55db79-32e6-43ca-baad-8540ce4d9e28",
   "metadata": {},
   "source": [
    "### Load pretrained Word2vec models"
   ]
  },
  {
   "cell_type": "code",
   "execution_count": 33,
   "id": "cd3692f6-49af-45a5-b932-d9013a1f7a9f",
   "metadata": {},
   "outputs": [
    {
     "name": "stdout",
     "output_type": "stream",
     "text": [
      "['fasttext-wiki-news-subwords-300', 'conceptnet-numberbatch-17-06-300', 'word2vec-ruscorpora-300', 'word2vec-google-news-300', 'glove-wiki-gigaword-50', 'glove-wiki-gigaword-100', 'glove-wiki-gigaword-200', 'glove-wiki-gigaword-300', 'glove-twitter-25', 'glove-twitter-50', 'glove-twitter-100', 'glove-twitter-200', '__testing_word2vec-matrix-synopsis']\n"
     ]
    }
   ],
   "source": [
    "print(list(gensim.downloader.info()['models'].keys()))"
   ]
  },
  {
   "cell_type": "code",
   "execution_count": 34,
   "id": "63276d95-6947-49e0-b3bb-321e1e414acc",
   "metadata": {},
   "outputs": [
    {
     "name": "stdout",
     "output_type": "stream",
     "text": [
      "[('chris', 0.8121618032455444), ('james', 0.7955256700515747), ('joe', 0.7932372689247131), ('mike', 0.7850410342216492), ('anthony', 0.7785152792930603), ('ryan', 0.7772720456123352), ('josh', 0.7681067585945129), ('danny', 0.7669281959533691), ('martin', 0.7561131119728088), ('tony', 0.7466763854026794)]\n",
      "[('queen', 0.7052316069602966)]\n"
     ]
    }
   ],
   "source": [
    "pretrained_wv = gensim.downloader.load('glove-twitter-100')\n",
    "print(pretrained_wv.most_similar('kevin'))\n",
    "print(pretrained_wv.most_similar(positive=['woman', 'king'], negative=['man'], topn=1))"
   ]
  },
  {
   "cell_type": "code",
   "execution_count": 43,
   "id": "56db89ec-eb67-4f3a-be72-96c40db8a765",
   "metadata": {},
   "outputs": [
    {
     "data": {
      "text/plain": [
       "<gensim.models.keyedvectors.KeyedVectors at 0x7f47ba8feeb0>"
      ]
     },
     "execution_count": 43,
     "metadata": {},
     "output_type": "execute_result"
    }
   ],
   "source": [
    "pretrained_wv"
   ]
  },
  {
   "cell_type": "markdown",
   "id": "3b19f779-2d06-4654-aaea-5bd1d4b5bcee",
   "metadata": {},
   "source": [
    "### Embed documents using Word2vec"
   ]
  },
  {
   "cell_type": "code",
   "execution_count": 8,
   "id": "16049291-de8e-4941-88d6-4b2d3a3fc36f",
   "metadata": {},
   "outputs": [],
   "source": [
    "def document_vector(doc, wv):\n",
    "    \"\"\"Create document vectors by averaging word vectors.\"\"\"\n",
    "    words = word_tokenize(doc)\n",
    "    word_vectors = np.array([wv[word] for word in words if word in wv])\n",
    "    \n",
    "    if len(word_vectors) == 0:\n",
    "        return np.zeros(wv.vector_size)\n",
    "    return np.mean(word_vectors, axis=0)"
   ]
  },
  {
   "cell_type": "code",
   "execution_count": 9,
   "id": "8cf2cdb4-9532-4501-ae42-72b60956e265",
   "metadata": {},
   "outputs": [
    {
     "data": {
      "text/plain": [
       "array([-0.19194837,  1.1887726 , -2.1477344 ,  0.7124633 ,  1.1299831 ,\n",
       "       -0.11799113,  0.7068214 , -0.39063868, -0.10425514,  0.21563089,\n",
       "        0.94921374, -1.0753573 ,  0.6847231 , -0.32946968, -0.53923285,\n",
       "        0.07936132, -0.07657174,  0.76442164, -1.6217905 ,  0.391741  ,\n",
       "        0.16873388, -0.01694202,  0.49370804, -1.440395  , -0.11706392,\n",
       "       -1.6728534 ,  1.3412911 ,  0.9000004 , -1.4966612 ,  0.8223381 ,\n",
       "       -0.14448702,  0.03353437, -0.14093874,  0.23752153, -0.1258779 ,\n",
       "       -0.88438517, -0.2879149 ,  0.22302659, -0.50727063, -0.46047762,\n",
       "       -1.0095145 , -0.03910244, -0.49541214,  0.3163128 , -0.6720114 ,\n",
       "       -0.24253581, -0.5839502 , -0.88826936, -1.5413691 ,  1.1487356 ],\n",
       "      dtype=float32)"
      ]
     },
     "execution_count": 9,
     "metadata": {},
     "output_type": "execute_result"
    }
   ],
   "source": [
    "document_vector(\"hello i'm gustave\", wv)"
   ]
  },
  {
   "cell_type": "code",
   "execution_count": 37,
   "id": "e5828966-7fd0-410a-88fe-f61655495108",
   "metadata": {},
   "outputs": [
    {
     "data": {
      "text/plain": [
       "array([ 1.06234513e-02,  3.72975022e-02, -8.76264870e-02,  1.91324979e-01,\n",
       "       -3.21467996e-01, -1.96269993e-02,  8.25392380e-02, -1.26881510e-01,\n",
       "        2.30521262e-01,  3.14925052e-02, -3.52858752e-02, -3.11605006e-01,\n",
       "       -3.27135992e+00, -9.83899981e-02, -1.58699974e-02,  1.59127504e-01,\n",
       "        8.28345045e-02,  7.97371566e-03, -3.28304976e-01, -1.46375000e-01,\n",
       "        8.91950056e-02, -6.60991013e-01, -1.90470219e-02, -4.90215003e-01,\n",
       "        1.10356249e-01, -5.24932504e-01,  1.25850271e-03,  2.64232486e-01,\n",
       "        3.58432502e-01, -5.27852535e-01, -1.72123998e-01,  1.99335009e-01,\n",
       "       -3.29671502e-01, -1.07807502e-01, -7.35374987e-02,  4.31460068e-02,\n",
       "       -1.23240992e-01,  1.02078997e-01,  4.95415002e-01,  2.15272516e-01,\n",
       "       -8.49732518e-01, -8.40062499e-02, -1.17344998e-01, -1.06314242e-01,\n",
       "       -1.62129961e-02,  1.71487495e-01, -6.80849999e-02, -5.87677538e-01,\n",
       "       -2.82429934e-01,  2.15227500e-01, -1.54695019e-01,  5.20460531e-02,\n",
       "       -2.09272504e-01, -3.81763250e-01,  2.66497523e-01,  2.32405007e-01,\n",
       "        5.72072715e-02, -3.46489251e-01,  1.53759986e-01,  1.22765005e-01,\n",
       "        2.92084992e-01,  1.60772011e-01, -1.48825943e-01, -3.68149996e-01,\n",
       "       -7.06575066e-02, -5.59142470e-01, -4.05472517e-01, -2.09999084e-03,\n",
       "       -1.44367501e-01,  8.00522566e-02,  2.98379481e-01, -9.50000063e-02,\n",
       "       -9.22985002e-02, -5.78824997e-01,  3.51107001e-01, -4.81972516e-01,\n",
       "        1.67311743e-01,  2.19533518e-01,  1.06678493e-01,  2.40734994e-01,\n",
       "        1.27335000e+00,  4.91777509e-01, -3.91035020e-01,  3.66149992e-02,\n",
       "        3.43552500e-01, -7.84249902e-02, -1.15211755e-01, -4.01670039e-02,\n",
       "        3.39367509e-01, -5.74776530e-02,  4.23555732e-01, -8.01699981e-02,\n",
       "        3.32667500e-01, -8.04419965e-02, -2.80587494e-01,  2.19248742e-01,\n",
       "       -3.06897491e-01, -3.36109996e-01,  7.39369988e-01, -9.38025117e-02],\n",
       "      dtype=float32)"
      ]
     },
     "execution_count": 37,
     "metadata": {},
     "output_type": "execute_result"
    }
   ],
   "source": [
    "document_vector(\"hello i'm gustave\", pretrained_wv)"
   ]
  },
  {
   "cell_type": "markdown",
   "id": "7543a01d-ac2f-4c9f-a798-45215f7a18f7",
   "metadata": {},
   "source": [
    "## Training and test sets for Word2vec"
   ]
  },
  {
   "cell_type": "code",
   "execution_count": 11,
   "id": "94b92125-42dc-453f-8994-8ee0cf9544ed",
   "metadata": {},
   "outputs": [
    {
     "name": "stdout",
     "output_type": "stream",
     "text": [
      "Features dimension: (4520, 50)\n"
     ]
    }
   ],
   "source": [
    "X = df['report']\n",
    "y = df['emotion']\n",
    "\n",
    "X = np.array([document_vector(text, wv) for text in X])\n",
    "#X = np.array([document_vector(text, pretrained_wv) for text in X])\n",
    "\n",
    "X_train, X_test, y_train, y_test = train_test_split(X, y, test_size=0.2, random_state=42)\n",
    "sample_weights = compute_sample_weight(class_weight='balanced', y=y_train)\n",
    "\n",
    "print(f\"Features dimension: {X_train.shape}\")"
   ]
  },
  {
   "cell_type": "markdown",
   "id": "af23b5f0-e987-4d0b-9976-0b3b6b10b44b",
   "metadata": {},
   "source": [
    "## Training and test sets for tf-idf"
   ]
  },
  {
   "cell_type": "code",
   "execution_count": 65,
   "id": "7b2d19f6-053a-42b4-bf6b-20f97798c4d9",
   "metadata": {},
   "outputs": [],
   "source": [
    "X = df['report']\n",
    "y = df['emotion']\n",
    "\n",
    "X_train, X_test, y_train, y_test = train_test_split(X, y, test_size=0.2, random_state=42)\n",
    "sample_weights = compute_sample_weight(class_weight='balanced', y=y_train)"
   ]
  },
  {
   "cell_type": "markdown",
   "id": "6f8f1353-cd7b-4e0b-afc7-6184e1a86888",
   "metadata": {},
   "source": [
    "## Tokenization functions"
   ]
  },
  {
   "cell_type": "code",
   "execution_count": 12,
   "id": "c76949c3-2986-4f74-91a1-8782ed3af58e",
   "metadata": {},
   "outputs": [],
   "source": [
    "def lemma_tokenize(doc):\n",
    "    wnl = WordNetLemmatizer()\n",
    "    return [wnl.lemmatize(t) for t in word_tokenize(doc)]\n",
    "\n",
    "def char_tokenize(doc):\n",
    "    return [char for char in doc]\n",
    "\n",
    "def byte_tokenize(doc):\n",
    "    tokens = doc.encode(\"utf-8\")\n",
    "    tokens = list(map(int, tokens))\n",
    "    return [str(token) for token in tokens]\n",
    "\n",
    "def gpt_tokenize(doc):\n",
    "    enc = tiktoken.encoding_for_model(\"gpt-4\")\n",
    "    tokens = enc.encode(doc)\n",
    "    return [str(token) for token in tokens]"
   ]
  },
  {
   "cell_type": "markdown",
   "id": "7ac26f4c-aaf1-4312-8420-b029d3925ab0",
   "metadata": {},
   "source": [
    "## Training: Logistic Regression with tf-idf or Word2vec features"
   ]
  },
  {
   "cell_type": "code",
   "execution_count": 13,
   "id": "20d8097d-5b95-43d4-8d9f-bc598502df41",
   "metadata": {},
   "outputs": [],
   "source": [
    "model = LogisticRegression(random_state=42, penalty = 'l2', max_iter = 1000, class_weight='balanced')\n",
    "#model = make_pipeline(CountVectorizer(tokenizer=word_tokenize, ngram_range = (1,1)), LogisticRegression(random_state=42, class_weight='balanced', penalty = 'l1', max_iter = 1000))\n",
    "#model = make_pipeline(CountVectorizer(tokenizer=word_tokenize, ngram_range = (1,1)), TfidfTransformer(), LogisticRegression(random_state=42, class_weight='balanced', penalty = 'l1', max_iter = 1000))"
   ]
  },
  {
   "cell_type": "code",
   "execution_count": 14,
   "id": "fd8370cd-706b-46bb-9b23-f2837eaa64b7",
   "metadata": {},
   "outputs": [
    {
     "name": "stdout",
     "output_type": "stream",
     "text": [
      "Classification Report:\n",
      "               precision    recall  f1-score   support\n",
      "\n",
      "       anger       0.23      0.34      0.28       158\n",
      "   confusion       0.30      0.32      0.31       215\n",
      "        fear       0.53      0.35      0.42       436\n",
      "   happiness       0.30      0.32      0.31       214\n",
      "     sadness       0.11      0.16      0.13       107\n",
      "\n",
      "    accuracy                           0.32      1130\n",
      "   macro avg       0.29      0.30      0.29      1130\n",
      "weighted avg       0.36      0.32      0.33      1130\n",
      "\n"
     ]
    }
   ],
   "source": [
    "model.fit(X_train, y_train)\n",
    "\n",
    "y_pred = model.predict(X_test)\n",
    "\n",
    "print(\"Classification Report:\\n\", classification_report(y_test, y_pred))"
   ]
  },
  {
   "cell_type": "markdown",
   "id": "8a44084f-57db-4211-916e-07eab0d94b1a",
   "metadata": {},
   "source": [
    "## Plot confusion matrix"
   ]
  },
  {
   "cell_type": "code",
   "execution_count": 71,
   "id": "a56408c8-d136-426f-8eb9-4e8252e4eaa2",
   "metadata": {},
   "outputs": [
    {
     "data": {
      "image/png": "[encoded data removed]",
      "text/plain": [
       "<Figure size 640x480 with 2 Axes>"
      ]
     },
     "metadata": {},
     "output_type": "display_data"
    }
   ],
   "source": [
    "cm = confusion_matrix(y_test, y_pred, labels=model.classes_)\n",
    "disp = ConfusionMatrixDisplay(confusion_matrix=cm,\n",
    "                               display_labels=model.classes_)\n",
    "disp.plot()\n",
    "plt.show()"
   ]
  },
  {
   "cell_type": "markdown",
   "id": "402c75a8-1249-4ac0-bbfe-e9e9e52e6eee",
   "metadata": {},
   "source": [
    "## Ensembling"
   ]
  },
  {
   "cell_type": "code",
   "execution_count": 32,
   "id": "ee56728e-1609-4fd3-aa4b-85c76cba1280",
   "metadata": {},
   "outputs": [],
   "source": [
    "log_clf = LogisticRegression(random_state=42)\n",
    "nb_clf = MultinomialNB()\n",
    "\n",
    "voting_clf = VotingClassifier(estimators=[('lr', log_clf), ('nb', nb_clf)], voting='soft')\n",
    "\n",
    "model = make_pipeline(CountVectorizer(), voting_clf)"
   ]
  },
  {
   "cell_type": "markdown",
   "id": "cc8fa3d8-ffa2-4da3-bccb-ccf2f1927910",
   "metadata": {},
   "source": [
    "## Cross validation"
   ]
  },
  {
   "cell_type": "code",
   "execution_count": 73,
   "id": "bb94bd7a-705b-43b1-93a6-ab680ab91d43",
   "metadata": {},
   "outputs": [
    {
     "name": "stdout",
     "output_type": "stream",
     "text": [
      "Mean f1_macro: 0.6001557737977311\n",
      "Standard deviation f1_macro: 0.016848071616025688\n"
     ]
    }
   ],
   "source": [
    "scoring = 'f1_macro'\n",
    "scores = cross_val_score(model, X, y, cv=5, scoring=scoring, n_jobs = -1)\n",
    "print(f\"Mean {scoring}: {scores.mean()}\")\n",
    "print(f\"Standard deviation {scoring}: {scores.std()}\")"
   ]
  },
  {
   "cell_type": "markdown",
   "id": "04f49a01-8a8d-4b2a-b100-97ac282ffb0b",
   "metadata": {},
   "source": [
    "## Optimize hyperparameters using Grid Search"
   ]
  },
  {
   "cell_type": "code",
   "execution_count": 74,
   "id": "9f0616b1-58de-494b-a121-ed140f900dc7",
   "metadata": {},
   "outputs": [
    {
     "name": "stdout",
     "output_type": "stream",
     "text": [
      "Fitting 5 folds for each of 12 candidates, totalling 60 fits\n",
      "Best parameters: {'logisticregression__C': 1, 'logisticregression__penalty': 'l1'}\n",
      "Best cross-validation score: 0.7450944180698572\n",
      "Test set score: 0.7858407079646018\n"
     ]
    }
   ],
   "source": [
    "model = make_pipeline(CountVectorizer(), LogisticRegression(random_state=42, class_weight='balanced', solver='liblinear'))\n",
    "\n",
    "param_grid = {\n",
    "    'logisticregression__C': [0.001, 0.01, 0.1, 1, 10, 100],\n",
    "    'logisticregression__penalty': ['l1', 'l2']\n",
    "}\n",
    "\n",
    "grid_search = GridSearchCV(model, param_grid, cv=5, scoring='f1_macro', verbose=1, n_jobs=-1)\n",
    "grid_search.fit(X_train, y_train)\n",
    "\n",
    "print(\"Best parameters:\", grid_search.best_params_)\n",
    "print(\"Best cross-validation score:\", grid_search.best_score_)\n",
    "\n",
    "best_model = grid_search.best_estimator_\n",
    "test_score = best_model.score(X_test, y_test)\n",
    "print(\"Test set score:\", test_score)"
   ]
  }
 ],
 "metadata": {
  "kernelspec": {
   "display_name": "Python 3 (ipykernel)",
   "language": "python",
   "name": "python3"
  },
  "language_info": {
   "codemirror_mode": {
    "name": "ipython",
    "version": 3
   },
   "file_extension": ".py",
   "mimetype": "text/x-python",
   "name": "python",
   "nbconvert_exporter": "python",
   "pygments_lexer": "ipython3",
   "version": "3.9.18"
  }
 },
 "nbformat": 4,
 "nbformat_minor": 5
}
