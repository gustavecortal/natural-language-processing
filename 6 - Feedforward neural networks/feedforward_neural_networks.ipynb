{
 "cells": [
  {
   "cell_type": "markdown",
   "id": "eae851b7-8b70-4a35-80fb-b7c548032b80",
   "metadata": {},
   "source": [
    "# Course 6 - PyTorch implementation of logistic regression and feed-forward neural networks"
   ]
  },
  {
   "cell_type": "markdown",
   "id": "75105c54-aac1-4011-9a59-00ab4cc31798",
   "metadata": {},
   "source": [
    "## Import librairies and dataset"
   ]
  },
  {
   "cell_type": "code",
   "execution_count": null,
   "id": "6e5db8ef-d13e-459e-9843-d1424f42b23b",
   "metadata": {},
   "outputs": [],
   "source": [
    "#!pip install pandas seaborn matplotlib scikit-learn gensim eli5 tiktoken spacy gensim"
   ]
  },
  {
   "cell_type": "code",
   "execution_count": 1,
   "id": "a685ce16-8bbd-4493-a961-e4004f2526e3",
   "metadata": {},
   "outputs": [
    {
     "name": "stderr",
     "output_type": "stream",
     "text": [
      "/home/gcortal/anaconda3/envs/epita/lib/python3.9/site-packages/tqdm/auto.py:21: TqdmWarning: IProgress not found. Please update jupyter and ipywidgets. See https://ipywidgets.readthedocs.io/en/stable/user_install.html\n",
      "  from .autonotebook import tqdm as notebook_tqdm\n"
     ]
    }
   ],
   "source": [
    "import pandas as pd\n",
    "import seaborn as sns\n",
    "import matplotlib.pyplot as plt\n",
    "from datasets import load_dataset\n",
    "from nltk import word_tokenize, sent_tokenize          \n",
    "from nltk.stem import WordNetLemmatizer \n",
    "import tiktoken\n",
    "import eli5\n",
    "import numpy as np\n",
    "\n",
    "from gensim.test.utils import common_texts\n",
    "from gensim.models import Word2Vec\n",
    "from gensim.models import KeyedVectors\n",
    "import gensim.downloader\n",
    "\n",
    "from sklearn.model_selection import train_test_split, cross_val_score, GridSearchCV, StratifiedKFold\n",
    "from sklearn.feature_extraction.text import CountVectorizer, TfidfVectorizer, TfidfTransformer\n",
    "from sklearn.naive_bayes import MultinomialNB\n",
    "from sklearn.pipeline import make_pipeline\n",
    "from sklearn.metrics import classification_report, accuracy_score, ConfusionMatrixDisplay, confusion_matrix\n",
    "from sklearn.utils.class_weight import compute_sample_weight\n",
    "from sklearn.linear_model import LogisticRegression\n",
    "from sklearn.preprocessing import StandardScaler\n",
    "from sklearn.ensemble import VotingClassifier\n",
    "\n",
    "from spacy.lang.fr.stop_words import STOP_WORDS as fr_stop\n",
    "from spacy.lang.en.stop_words import STOP_WORDS as en_stop"
   ]
  },
  {
   "cell_type": "code",
   "execution_count": 2,
   "id": "9592edd5-f84f-4165-b7e9-fdd4ac3947a3",
   "metadata": {},
   "outputs": [
    {
     "data": {
      "text/html": [
       "<div>\n",
       "<style scoped>\n",
       "    .dataframe tbody tr th:only-of-type {\n",
       "        vertical-align: middle;\n",
       "    }\n",
       "\n",
       "    .dataframe tbody tr th {\n",
       "        vertical-align: top;\n",
       "    }\n",
       "\n",
       "    .dataframe thead th {\n",
       "        text-align: right;\n",
       "    }\n",
       "</style>\n",
       "<table border=\"1\" class=\"dataframe\">\n",
       "  <thead>\n",
       "    <tr style=\"text-align: right;\">\n",
       "      <th></th>\n",
       "      <th>report</th>\n",
       "      <th>emotion</th>\n",
       "    </tr>\n",
       "  </thead>\n",
       "  <tbody>\n",
       "    <tr>\n",
       "      <th>2946</th>\n",
       "      <td>I'm in a sort of playground area, only it's in...</td>\n",
       "      <td>AN D</td>\n",
       "    </tr>\n",
       "    <tr>\n",
       "      <th>160</th>\n",
       "      <td>There's a kind of war or rebellion going on at...</td>\n",
       "      <td>AP D</td>\n",
       "    </tr>\n",
       "    <tr>\n",
       "      <th>1102</th>\n",
       "      <td>American has purchased reclaimed land from the...</td>\n",
       "      <td>CO D</td>\n",
       "    </tr>\n",
       "    <tr>\n",
       "      <th>27512</th>\n",
       "      <td>I'm in a dimly lit room that holds the spirits...</td>\n",
       "      <td>AP D</td>\n",
       "    </tr>\n",
       "    <tr>\n",
       "      <th>26516</th>\n",
       "      <td>Driving home from work late.  There was a side...</td>\n",
       "      <td>CO D</td>\n",
       "    </tr>\n",
       "  </tbody>\n",
       "</table>\n",
       "</div>"
      ],
      "text/plain": [
       "                                                  report emotion\n",
       "2946   I'm in a sort of playground area, only it's in...    AN D\n",
       "160    There's a kind of war or rebellion going on at...    AP D\n",
       "1102   American has purchased reclaimed land from the...    CO D\n",
       "27512  I'm in a dimly lit room that holds the spirits...    AP D\n",
       "26516  Driving home from work late.  There was a side...    CO D"
      ]
     },
     "execution_count": 2,
     "metadata": {},
     "output_type": "execute_result"
    }
   ],
   "source": [
    "dataset = load_dataset(\"gustavecortal/DreamBank-annotated\")\n",
    "df = dataset[\"train\"].to_pandas()\n",
    "df = df.sample(frac = 1)\n",
    "df[\"report\"] = df[\"report\"].astype(str)\n",
    "df = df.query(\"emotion == 'CO D' or emotion == 'AN D' or emotion == 'SD D' or emotion == 'AP D' or emotion == 'HA D'\")[[\"report\", \"emotion\"]]\n",
    "df.head()"
   ]
  },
  {
   "cell_type": "markdown",
   "id": "3a162457-ae00-48c0-bf6d-ab2c38ddec5f",
   "metadata": {},
   "source": [
    "## Preprocessing and visualization"
   ]
  },
  {
   "cell_type": "markdown",
   "id": "59efd75a-6d2a-4709-a2e7-1bc4d355b4ec",
   "metadata": {},
   "source": [
    "Convert code to emotion class according to the annotation guideline : https://dreams.ucsc.edu/Coding/emotions.html"
   ]
  },
  {
   "cell_type": "code",
   "execution_count": 3,
   "id": "e0af0d38-75fb-45f7-9103-4cb0c6c41139",
   "metadata": {},
   "outputs": [
    {
     "data": {
      "text/html": [
       "<div>\n",
       "<style scoped>\n",
       "    .dataframe tbody tr th:only-of-type {\n",
       "        vertical-align: middle;\n",
       "    }\n",
       "\n",
       "    .dataframe tbody tr th {\n",
       "        vertical-align: top;\n",
       "    }\n",
       "\n",
       "    .dataframe thead th {\n",
       "        text-align: right;\n",
       "    }\n",
       "</style>\n",
       "<table border=\"1\" class=\"dataframe\">\n",
       "  <thead>\n",
       "    <tr style=\"text-align: right;\">\n",
       "      <th></th>\n",
       "      <th>report</th>\n",
       "      <th>emotion</th>\n",
       "    </tr>\n",
       "  </thead>\n",
       "  <tbody>\n",
       "    <tr>\n",
       "      <th>2946</th>\n",
       "      <td>i'm in a sort of playground area, only it's in...</td>\n",
       "      <td>anger</td>\n",
       "    </tr>\n",
       "    <tr>\n",
       "      <th>160</th>\n",
       "      <td>there's a kind of war or rebellion going on at...</td>\n",
       "      <td>fear</td>\n",
       "    </tr>\n",
       "    <tr>\n",
       "      <th>1102</th>\n",
       "      <td>american has purchased reclaimed land from the...</td>\n",
       "      <td>confusion</td>\n",
       "    </tr>\n",
       "    <tr>\n",
       "      <th>27512</th>\n",
       "      <td>i'm in a dimly lit room that holds the spirits...</td>\n",
       "      <td>fear</td>\n",
       "    </tr>\n",
       "    <tr>\n",
       "      <th>26516</th>\n",
       "      <td>driving home from work late.  there was a side...</td>\n",
       "      <td>confusion</td>\n",
       "    </tr>\n",
       "  </tbody>\n",
       "</table>\n",
       "</div>"
      ],
      "text/plain": [
       "                                                  report    emotion\n",
       "2946   i'm in a sort of playground area, only it's in...      anger\n",
       "160    there's a kind of war or rebellion going on at...       fear\n",
       "1102   american has purchased reclaimed land from the...  confusion\n",
       "27512  i'm in a dimly lit room that holds the spirits...       fear\n",
       "26516  driving home from work late.  there was a side...  confusion"
      ]
     },
     "execution_count": 3,
     "metadata": {},
     "output_type": "execute_result"
    }
   ],
   "source": [
    "def to_emotion_class(emotion):\n",
    "    \n",
    "    if emotion == \"AP D\":\n",
    "        return \"fear\"\n",
    "    elif emotion == \"CO D\":\n",
    "        return \"confusion\"\n",
    "    elif emotion == \"SD D\":\n",
    "        return \"sadness\"\n",
    "    elif emotion == \"AN D\":\n",
    "        return \"anger\"\n",
    "    else:\n",
    "        return \"happiness\"\n",
    "\n",
    "df[\"emotion\"] = df[\"emotion\"].apply(lambda x: to_emotion_class(x))\n",
    "df[\"report\"] = df[\"report\"].apply(lambda x: x.lower()) # simple preprocessing (lowercase only)\n",
    "df.head()"
   ]
  },
  {
   "cell_type": "code",
   "execution_count": 4,
   "id": "3df000fd-33c6-4b49-b53c-c26a005dded3",
   "metadata": {},
   "outputs": [
    {
     "data": {
      "image/png": "[encoded data removed]",
      "text/plain": [
       "<Figure size 1000x600 with 1 Axes>"
      ]
     },
     "metadata": {},
     "output_type": "display_data"
    }
   ],
   "source": [
    "plt.figure(figsize=(10, 6))\n",
    "sns.countplot(x='emotion', data=df)\n",
    "\n",
    "plt.title('Distribution of emotions') \n",
    "plt.xlabel('Emotion')\n",
    "plt.ylabel('Count')\n",
    "plt.xticks(rotation=45)\n",
    "\n",
    "plt.show()"
   ]
  },
  {
   "cell_type": "markdown",
   "id": "3e08814e-9ab5-4eb9-aa39-5974fcd70db4",
   "metadata": {},
   "source": [
    "## Training Word2vec"
   ]
  },
  {
   "cell_type": "code",
   "execution_count": 5,
   "id": "4e8a6e6d-1c0a-476c-95ec-638e824d5b3f",
   "metadata": {},
   "outputs": [],
   "source": [
    "X_list = list(df[\"report\"])\n",
    "X_strings = \" \".join(X_list)\n",
    "X_sents = sent_tokenize(X_strings)\n",
    "X_sents = [word_tokenize(s) for s in X_sents]"
   ]
  },
  {
   "cell_type": "code",
   "execution_count": 6,
   "id": "2316cf8f-23f8-4445-bfbf-e786a5efc47f",
   "metadata": {},
   "outputs": [],
   "source": [
    "model = Word2Vec(sentences=X_sents, vector_size=50, window=5, min_count=5, workers=4)\n",
    "#model = Word2Vec(sentences=X_sents, vector_size=100, window=5, min_count=5, workers=4)\n",
    "\n",
    "word_vectors = model.wv\n",
    "word_vectors.save(\"word2vec.wordvectors\") # Store the words and their trained embeddings\n",
    "del model"
   ]
  },
  {
   "cell_type": "code",
   "execution_count": 7,
   "id": "9fa17e28-c88b-455a-ab32-c33f11d6d1be",
   "metadata": {},
   "outputs": [
    {
     "data": {
      "text/plain": [
       "[('college', 0.8354191184043884),\n",
       " ('university', 0.7460114359855652),\n",
       " ('westport', 0.6804368495941162),\n",
       " ('junior', 0.6769436001777649),\n",
       " ('church', 0.6533600687980652),\n",
       " ('brimson', 0.6523252129554749),\n",
       " ('city', 0.6390878558158875),\n",
       " ('restaurant', 0.6358777284622192),\n",
       " ('staying', 0.632278561592102),\n",
       " ('meeting', 0.6287503242492676)]"
      ]
     },
     "execution_count": 7,
     "metadata": {},
     "output_type": "execute_result"
    }
   ],
   "source": [
    "wv = KeyedVectors.load(\"word2vec.wordvectors\", mmap='r')\n",
    "vector = wv['war']\n",
    "sims = wv.most_similar('school', topn=10)\n",
    "sims"
   ]
  },
  {
   "cell_type": "markdown",
   "id": "1d55db79-32e6-43ca-baad-8540ce4d9e28",
   "metadata": {},
   "source": [
    "### Load pretrained Word2vec models"
   ]
  },
  {
   "cell_type": "code",
   "execution_count": 71,
   "id": "cd3692f6-49af-45a5-b932-d9013a1f7a9f",
   "metadata": {},
   "outputs": [
    {
     "name": "stdout",
     "output_type": "stream",
     "text": [
      "['fasttext-wiki-news-subwords-300', 'conceptnet-numberbatch-17-06-300', 'word2vec-ruscorpora-300', 'word2vec-google-news-300', 'glove-wiki-gigaword-50', 'glove-wiki-gigaword-100', 'glove-wiki-gigaword-200', 'glove-wiki-gigaword-300', 'glove-twitter-25', 'glove-twitter-50', 'glove-twitter-100', 'glove-twitter-200', '__testing_word2vec-matrix-synopsis']\n"
     ]
    }
   ],
   "source": [
    "print(list(gensim.downloader.info()['models'].keys()))"
   ]
  },
  {
   "cell_type": "code",
   "execution_count": 72,
   "id": "63276d95-6947-49e0-b3bb-321e1e414acc",
   "metadata": {},
   "outputs": [
    {
     "name": "stdout",
     "output_type": "stream",
     "text": [
      "[('chris', 0.8121618032455444), ('james', 0.7955256700515747), ('joe', 0.7932372689247131), ('mike', 0.7850410342216492), ('anthony', 0.7785152792930603), ('ryan', 0.7772720456123352), ('josh', 0.7681067585945129), ('danny', 0.7669281959533691), ('martin', 0.7561131119728088), ('tony', 0.7466763854026794)]\n",
      "[('queen', 0.7052316069602966)]\n"
     ]
    }
   ],
   "source": [
    "pretrained_wv = gensim.downloader.load('glove-twitter-100')\n",
    "print(pretrained_wv.most_similar('kevin'))\n",
    "print(pretrained_wv.most_similar(positive=['woman', 'king'], negative=['man'], topn=1))"
   ]
  },
  {
   "cell_type": "code",
   "execution_count": 73,
   "id": "56db89ec-eb67-4f3a-be72-96c40db8a765",
   "metadata": {},
   "outputs": [
    {
     "data": {
      "text/plain": [
       "<gensim.models.keyedvectors.KeyedVectors at 0x7fb4376269d0>"
      ]
     },
     "execution_count": 73,
     "metadata": {},
     "output_type": "execute_result"
    }
   ],
   "source": [
    "pretrained_wv"
   ]
  },
  {
   "cell_type": "markdown",
   "id": "3b19f779-2d06-4654-aaea-5bd1d4b5bcee",
   "metadata": {},
   "source": [
    "### Embed documents using Word2vec"
   ]
  },
  {
   "cell_type": "code",
   "execution_count": 8,
   "id": "16049291-de8e-4941-88d6-4b2d3a3fc36f",
   "metadata": {},
   "outputs": [],
   "source": [
    "def document_vector(doc, wv):\n",
    "    \"\"\"Create document vectors by averaging word vectors.\"\"\"\n",
    "    words = word_tokenize(doc)\n",
    "    word_vectors = np.array([wv[word] for word in words if word in wv])\n",
    "    \n",
    "    if len(word_vectors) == 0:\n",
    "        return np.zeros(wv.vector_size)\n",
    "    return np.mean(word_vectors, axis=0)"
   ]
  },
  {
   "cell_type": "code",
   "execution_count": 9,
   "id": "8cf2cdb4-9532-4501-ae42-72b60956e265",
   "metadata": {},
   "outputs": [
    {
     "data": {
      "text/plain": [
       "array([-0.1590178 ,  1.0080061 , -1.7891803 ,  0.39875498,  0.51553303,\n",
       "       -0.13202308,  0.07602569, -1.2106122 , -0.7621236 ,  0.41061005,\n",
       "        0.19461997, -0.27766737,  0.33896756, -0.30336887, -1.5025657 ,\n",
       "       -0.1438276 , -0.03450378, -0.40640453, -2.4633534 , -0.0809966 ,\n",
       "        0.8975706 ,  0.11168957, -0.43253085, -1.0144707 , -0.09317059,\n",
       "       -1.4372205 ,  0.4182998 ,  0.92039007, -1.050299  ,  0.43063155,\n",
       "        0.42847812, -0.8412657 , -0.20338853,  0.96106434, -0.39079297,\n",
       "       -1.403957  , -0.17974328,  0.5140849 , -0.38006935, -0.6934406 ,\n",
       "       -0.31601128,  0.10226524,  0.03522162,  0.7500138 , -0.31057632,\n",
       "       -0.7997578 , -0.67227286, -0.855439  , -1.4975137 ,  0.8867076 ],\n",
       "      dtype=float32)"
      ]
     },
     "execution_count": 9,
     "metadata": {},
     "output_type": "execute_result"
    }
   ],
   "source": [
    "document_vector(\"hello i'm gustave\", wv)"
   ]
  },
  {
   "cell_type": "code",
   "execution_count": 37,
   "id": "e5828966-7fd0-410a-88fe-f61655495108",
   "metadata": {},
   "outputs": [
    {
     "data": {
      "text/plain": [
       "array([ 1.06234513e-02,  3.72975022e-02, -8.76264870e-02,  1.91324979e-01,\n",
       "       -3.21467996e-01, -1.96269993e-02,  8.25392380e-02, -1.26881510e-01,\n",
       "        2.30521262e-01,  3.14925052e-02, -3.52858752e-02, -3.11605006e-01,\n",
       "       -3.27135992e+00, -9.83899981e-02, -1.58699974e-02,  1.59127504e-01,\n",
       "        8.28345045e-02,  7.97371566e-03, -3.28304976e-01, -1.46375000e-01,\n",
       "        8.91950056e-02, -6.60991013e-01, -1.90470219e-02, -4.90215003e-01,\n",
       "        1.10356249e-01, -5.24932504e-01,  1.25850271e-03,  2.64232486e-01,\n",
       "        3.58432502e-01, -5.27852535e-01, -1.72123998e-01,  1.99335009e-01,\n",
       "       -3.29671502e-01, -1.07807502e-01, -7.35374987e-02,  4.31460068e-02,\n",
       "       -1.23240992e-01,  1.02078997e-01,  4.95415002e-01,  2.15272516e-01,\n",
       "       -8.49732518e-01, -8.40062499e-02, -1.17344998e-01, -1.06314242e-01,\n",
       "       -1.62129961e-02,  1.71487495e-01, -6.80849999e-02, -5.87677538e-01,\n",
       "       -2.82429934e-01,  2.15227500e-01, -1.54695019e-01,  5.20460531e-02,\n",
       "       -2.09272504e-01, -3.81763250e-01,  2.66497523e-01,  2.32405007e-01,\n",
       "        5.72072715e-02, -3.46489251e-01,  1.53759986e-01,  1.22765005e-01,\n",
       "        2.92084992e-01,  1.60772011e-01, -1.48825943e-01, -3.68149996e-01,\n",
       "       -7.06575066e-02, -5.59142470e-01, -4.05472517e-01, -2.09999084e-03,\n",
       "       -1.44367501e-01,  8.00522566e-02,  2.98379481e-01, -9.50000063e-02,\n",
       "       -9.22985002e-02, -5.78824997e-01,  3.51107001e-01, -4.81972516e-01,\n",
       "        1.67311743e-01,  2.19533518e-01,  1.06678493e-01,  2.40734994e-01,\n",
       "        1.27335000e+00,  4.91777509e-01, -3.91035020e-01,  3.66149992e-02,\n",
       "        3.43552500e-01, -7.84249902e-02, -1.15211755e-01, -4.01670039e-02,\n",
       "        3.39367509e-01, -5.74776530e-02,  4.23555732e-01, -8.01699981e-02,\n",
       "        3.32667500e-01, -8.04419965e-02, -2.80587494e-01,  2.19248742e-01,\n",
       "       -3.06897491e-01, -3.36109996e-01,  7.39369988e-01, -9.38025117e-02],\n",
       "      dtype=float32)"
      ]
     },
     "execution_count": 37,
     "metadata": {},
     "output_type": "execute_result"
    }
   ],
   "source": [
    "document_vector(\"hello i'm gustave\", pretrained_wv)"
   ]
  },
  {
   "cell_type": "markdown",
   "id": "7543a01d-ac2f-4c9f-a798-45215f7a18f7",
   "metadata": {},
   "source": [
    "## Training and test sets for Word2vec"
   ]
  },
  {
   "cell_type": "code",
   "execution_count": 10,
   "id": "94b92125-42dc-453f-8994-8ee0cf9544ed",
   "metadata": {},
   "outputs": [
    {
     "name": "stdout",
     "output_type": "stream",
     "text": [
      "Features dimension: (4520, 50)\n"
     ]
    }
   ],
   "source": [
    "X = df['report']\n",
    "y = df['emotion']\n",
    "\n",
    "X = np.array([document_vector(text, wv) for text in X])\n",
    "#X = np.array([document_vector(text, pretrained_wv) for text in X])\n",
    "\n",
    "X_train, X_test, y_train, y_test = train_test_split(X, y, test_size=0.2, random_state=42)\n",
    "sample_weights = compute_sample_weight(class_weight='balanced', y=y_train)\n",
    "\n",
    "print(f\"Features dimension: {X_train.shape}\")"
   ]
  },
  {
   "cell_type": "markdown",
   "id": "af23b5f0-e987-4d0b-9976-0b3b6b10b44b",
   "metadata": {},
   "source": [
    "## Training and test sets for tf-idf"
   ]
  },
  {
   "cell_type": "code",
   "execution_count": 7,
   "id": "7b2d19f6-053a-42b4-bf6b-20f97798c4d9",
   "metadata": {},
   "outputs": [],
   "source": [
    "X = df['report']\n",
    "y = df['emotion']\n",
    "\n",
    "X_train, X_test, y_train, y_test = train_test_split(X, y, test_size=0.2, random_state=42)\n",
    "sample_weights = compute_sample_weight(class_weight='balanced', y=y_train)"
   ]
  },
  {
   "cell_type": "markdown",
   "id": "6f8f1353-cd7b-4e0b-afc7-6184e1a86888",
   "metadata": {},
   "source": [
    "## Tokenization functions"
   ]
  },
  {
   "cell_type": "code",
   "execution_count": 11,
   "id": "c76949c3-2986-4f74-91a1-8782ed3af58e",
   "metadata": {},
   "outputs": [],
   "source": [
    "def lemma_tokenize(doc):\n",
    "    wnl = WordNetLemmatizer()\n",
    "    return [wnl.lemmatize(t) for t in word_tokenize(doc)]\n",
    "\n",
    "def char_tokenize(doc):\n",
    "    return [char for char in doc]\n",
    "\n",
    "def byte_tokenize(doc):\n",
    "    tokens = doc.encode(\"utf-8\")\n",
    "    tokens = list(map(int, tokens))\n",
    "    return [str(token) for token in tokens]\n",
    "\n",
    "def gpt_tokenize(doc):\n",
    "    enc = tiktoken.encoding_for_model(\"gpt-4\")\n",
    "    tokens = enc.encode(doc)\n",
    "    return [str(token) for token in tokens]"
   ]
  },
  {
   "cell_type": "markdown",
   "id": "7ac26f4c-aaf1-4312-8420-b029d3925ab0",
   "metadata": {},
   "source": [
    "## Training: Logistic regression"
   ]
  },
  {
   "cell_type": "code",
   "execution_count": 12,
   "id": "19dd6a85-3165-49de-abfb-aab60bd3b95c",
   "metadata": {},
   "outputs": [],
   "source": [
    "from sklearn.preprocessing import LabelEncoder\n",
    "import numpy as np"
   ]
  },
  {
   "cell_type": "code",
   "execution_count": 13,
   "id": "fa85e87d-7a24-4b28-8f15-bebbba61ce56",
   "metadata": {},
   "outputs": [],
   "source": [
    "label_encoder = LabelEncoder()\n",
    "classes = np.array(y.values)\n",
    "\n",
    "integer_encoded = label_encoder.fit_transform(classes) # Transform classes to integers"
   ]
  },
  {
   "cell_type": "code",
   "execution_count": 14,
   "id": "c4b5219b-efef-4877-98c7-e12d0a9b681e",
   "metadata": {},
   "outputs": [
    {
     "data": {
      "text/plain": [
       "array([0, 2, 1, ..., 2, 4, 2])"
      ]
     },
     "execution_count": 14,
     "metadata": {},
     "output_type": "execute_result"
    }
   ],
   "source": [
    "integer_encoded"
   ]
  },
  {
   "cell_type": "code",
   "execution_count": 15,
   "id": "5e2bdcad-4943-4073-a7d7-bf1ede9d1043",
   "metadata": {},
   "outputs": [],
   "source": [
    "import torch\n",
    "import numpy as np\n",
    "import pandas as pd\n",
    "from sklearn.model_selection import train_test_split\n",
    "from torch.utils.data import TensorDataset, DataLoader\n",
    "\n",
    "# Convert to PyTorch tensors\n",
    "X_tensor = torch.tensor(X, dtype=torch.float32)\n",
    "y_tensor = torch.tensor(integer_encoded, dtype=torch.long)\n",
    "\n",
    "# Split the data\n",
    "X_train, X_test, y_train, y_test = train_test_split(X_tensor, y_tensor, test_size=0.2, random_state=42)\n",
    "\n",
    "# Create TensorDataset objects\n",
    "train_dataset = TensorDataset(X_train, y_train)\n",
    "test_dataset = TensorDataset(X_test, y_test)\n",
    "\n",
    "# Create DataLoader objects\n",
    "batch_size = 64\n",
    "train_loader = DataLoader(dataset=train_dataset, batch_size=batch_size, shuffle=True)\n",
    "test_loader = DataLoader(dataset=test_dataset, batch_size=batch_size, shuffle=False)\n"
   ]
  },
  {
   "cell_type": "code",
   "execution_count": 16,
   "id": "f9f2e991-f09e-48c5-be2b-f430d958dd55",
   "metadata": {},
   "outputs": [
    {
     "name": "stdout",
     "output_type": "stream",
     "text": [
      "LogisticRegressionModel(\n",
      "  (linear): Linear(in_features=50, out_features=5, bias=True)\n",
      ")\n",
      "Epoch [1/20], Loss: 1.5592\n",
      "Precision: 0.1824, Recall: 0.3673, F1 Score: 0.2112\n",
      "Epoch [2/20], Loss: 1.4708\n",
      "Precision: 0.2500, Recall: 0.3681, F1 Score: 0.2224\n",
      "Epoch [3/20], Loss: 1.4699\n",
      "Precision: 0.2886, Recall: 0.3726, F1 Score: 0.2304\n",
      "Epoch [4/20], Loss: 1.4704\n",
      "Precision: 0.3427, Recall: 0.3779, F1 Score: 0.2479\n",
      "Epoch [5/20], Loss: 1.4821\n",
      "Precision: 0.3620, Recall: 0.3805, F1 Score: 0.2400\n",
      "Epoch [6/20], Loss: 1.4935\n",
      "Precision: 0.3210, Recall: 0.3770, F1 Score: 0.2826\n",
      "Epoch [7/20], Loss: 1.3713\n",
      "Precision: 0.3262, Recall: 0.3779, F1 Score: 0.2618\n",
      "Epoch [8/20], Loss: 1.6761\n",
      "Precision: 0.3373, Recall: 0.3761, F1 Score: 0.2475\n",
      "Epoch [9/20], Loss: 1.3537\n",
      "Precision: 0.3224, Recall: 0.3770, F1 Score: 0.2791\n",
      "Epoch [10/20], Loss: 1.2750\n",
      "Precision: 0.3310, Recall: 0.3814, F1 Score: 0.2821\n",
      "Epoch [11/20], Loss: 1.3060\n",
      "Precision: 0.3318, Recall: 0.3841, F1 Score: 0.2832\n",
      "Epoch [12/20], Loss: 1.3660\n",
      "Precision: 0.3187, Recall: 0.3779, F1 Score: 0.2885\n",
      "Epoch [13/20], Loss: 1.5431\n",
      "Precision: 0.3354, Recall: 0.3832, F1 Score: 0.2867\n",
      "Epoch [14/20], Loss: 1.3803\n",
      "Precision: 0.3286, Recall: 0.3796, F1 Score: 0.2659\n",
      "Epoch [15/20], Loss: 1.4676\n",
      "Precision: 0.3174, Recall: 0.3779, F1 Score: 0.2863\n",
      "Epoch [16/20], Loss: 1.4962\n",
      "Precision: 0.3318, Recall: 0.3814, F1 Score: 0.2609\n",
      "Epoch [17/20], Loss: 1.4664\n",
      "Precision: 0.3414, Recall: 0.3805, F1 Score: 0.2664\n",
      "Epoch [18/20], Loss: 1.3241\n",
      "Precision: 0.3269, Recall: 0.3796, F1 Score: 0.2787\n",
      "Epoch [19/20], Loss: 1.3173\n",
      "Precision: 0.3289, Recall: 0.3805, F1 Score: 0.2760\n",
      "Epoch [20/20], Loss: 1.4669\n",
      "Precision: 0.3223, Recall: 0.3770, F1 Score: 0.2720\n"
     ]
    }
   ],
   "source": [
    "import torch\n",
    "import torch.nn as nn\n",
    "import torch.optim as optim\n",
    "from sklearn.metrics import precision_score, recall_score, f1_score\n",
    "import torch.nn.functional as F\n",
    "\n",
    "class LogisticRegressionModel(nn.Module):\n",
    "    def __init__(self, vocab_size, num_classes):\n",
    "        super(LogisticRegressionModel, self).__init__()\n",
    "        self.linear = nn.Linear(vocab_size, num_classes)\n",
    "    \n",
    "    def forward(self, x):\n",
    "        return self.linear(x)\n",
    "\n",
    "class MultiLayerPerceptron(nn.Module):\n",
    "    def __init__(self, vocab_size, hidden_dim, num_classes):\n",
    "        super(MultiLayerPerceptron, self).__init__()\n",
    "        self.fc1 = nn.Linear(vocab_size, hidden_dim)\n",
    "        self.fc2 = nn.Linear(hidden_dim, num_classes)\n",
    "    \n",
    "    def forward(self, x):\n",
    "        x = F.relu(self.fc1(x))\n",
    "        return self.fc2(x)\n",
    "\n",
    "class MultiLayerPerceptron2(nn.Module):\n",
    "    def __init__(self, vocab_size, hidden_dim, num_classes):\n",
    "        super(MultiLayerPerceptron2, self).__init__()\n",
    "        self.fc1 = nn.Linear(vocab_size, hidden_dim*2)\n",
    "        self.dropout1 = nn.Dropout(p=0.1)\n",
    "        self.fc2 = nn.Linear(hidden_dim*2, hidden_dim)\n",
    "        self.dropout2 = nn.Dropout(p=0.1)\n",
    "        self.fc3 = nn.Linear(hidden_dim, num_classes)\n",
    "    \n",
    "    def forward(self, x):\n",
    "        x = F.relu(self.fc1(x))\n",
    "        x = self.dropout1(x)\n",
    "        x = F.relu(self.fc2(x))\n",
    "        x = self.dropout2(x)\n",
    "        return self.fc3(x)\n",
    "\n",
    "num_epochs = 20\n",
    "vocab_size = X_tensor.shape[1]\n",
    "num_classes = len(set(y.values))\n",
    "\n",
    "model = LogisticRegressionModel(vocab_size, num_classes)\n",
    "#model = MultiLayerPerceptron2(vocab_size, 10, num_classes)\n",
    "print(model)\n",
    "\n",
    "# Loss and optimizer\n",
    "criterion = nn.CrossEntropyLoss()\n",
    "#optimizer = optim.SGD(model.parameters(), lr=0.1)\n",
    "optimizer = optim.Adam(model.parameters(), lr=0.005)\n",
    "#optimizer = optim.AdamW(model.parameters(), lr=0.005)\n",
    "\n",
    "for epoch in range(num_epochs):\n",
    "    for inputs, labels in train_loader:\n",
    "        inputs = inputs.float()\n",
    "        labels = labels.long()\n",
    "        \n",
    "        # Forward pass\n",
    "        outputs = model(inputs)\n",
    "        loss = criterion(outputs, labels)\n",
    "        \n",
    "        # Backward and optimize\n",
    "        optimizer.zero_grad()\n",
    "        loss.backward()\n",
    "        #nn.utils.clip_grad_norm_(model.parameters(), 1.0)\n",
    "        optimizer.step()\n",
    "    \n",
    "    print(f'Epoch [{epoch+1}/{num_epochs}], Loss: {loss.item():.4f}')\n",
    "\n",
    "    model.eval()\n",
    "    correct = 0\n",
    "    total = 0\n",
    "    all_labels = []\n",
    "    all_predictions = []\n",
    "    \n",
    "    with torch.no_grad():\n",
    "        for inputs, labels in test_loader:\n",
    "            outputs = model(inputs)\n",
    "            _, predicted = torch.max(outputs.data, 1)\n",
    "            all_labels.extend(labels)\n",
    "            all_predictions.extend(predicted)\n",
    "\n",
    "    precision = precision_score(all_labels, all_predictions, average='weighted', zero_division=0)\n",
    "    recall = recall_score(all_labels, all_predictions, average='weighted')\n",
    "    f1 = f1_score(all_labels, all_predictions, average='weighted')\n",
    "    \n",
    "    print(f'Precision: {precision:.4f}, Recall: {recall:.4f}, F1 Score: {f1:.4f}')"
   ]
  },
  {
   "cell_type": "code",
   "execution_count": null,
   "id": "60fbafc9-987c-4761-9e2e-68b8d23ef3e4",
   "metadata": {},
   "outputs": [],
   "source": []
  }
 ],
 "metadata": {
  "kernelspec": {
   "display_name": "Python 3 (ipykernel)",
   "language": "python",
   "name": "python3"
  },
  "language_info": {
   "codemirror_mode": {
    "name": "ipython",
    "version": 3
   },
   "file_extension": ".py",
   "mimetype": "text/x-python",
   "name": "python",
   "nbconvert_exporter": "python",
   "pygments_lexer": "ipython3",
   "version": "3.9.18"
  }
 },
 "nbformat": 4,
 "nbformat_minor": 5
}
