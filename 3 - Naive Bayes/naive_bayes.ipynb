{
 "cells": [
  {
   "cell_type": "markdown",
   "id": "eae851b7-8b70-4a35-80fb-b7c548032b80",
   "metadata": {},
   "source": [
    "# Course 3 - Naive Bayes"
   ]
  },
  {
   "cell_type": "markdown",
   "id": "75105c54-aac1-4011-9a59-00ab4cc31798",
   "metadata": {},
   "source": [
    "## Import librairies and dataset"
   ]
  },
  {
   "cell_type": "code",
   "execution_count": 23,
   "id": "6e5db8ef-d13e-459e-9843-d1424f42b23b",
   "metadata": {},
   "outputs": [],
   "source": [
    "#!pip install pandas seaborn matplotlib scikit-learn gensim eli5 tiktoken spacy"
   ]
  },
  {
   "cell_type": "code",
   "execution_count": 1,
   "id": "a685ce16-8bbd-4493-a961-e4004f2526e3",
   "metadata": {},
   "outputs": [
    {
     "name": "stderr",
     "output_type": "stream",
     "text": [
      "/home/gcortal/anaconda3/envs/epita/lib/python3.9/site-packages/tqdm/auto.py:21: TqdmWarning: IProgress not found. Please update jupyter and ipywidgets. See https://ipywidgets.readthedocs.io/en/stable/user_install.html\n",
      "  from .autonotebook import tqdm as notebook_tqdm\n"
     ]
    }
   ],
   "source": [
    "import pandas as pd\n",
    "import seaborn as sns\n",
    "import matplotlib.pyplot as plt\n",
    "from datasets import load_dataset\n",
    "from nltk import word_tokenize          \n",
    "from nltk.stem import WordNetLemmatizer \n",
    "import tiktoken\n",
    "\n",
    "from sklearn.model_selection import train_test_split, cross_val_score, GridSearchCV, StratifiedKFold\n",
    "from sklearn.feature_extraction.text import CountVectorizer, TfidfVectorizer, TfidfTransformer\n",
    "from sklearn.naive_bayes import MultinomialNB\n",
    "from sklearn.pipeline import make_pipeline\n",
    "from sklearn.metrics import classification_report, accuracy_score, ConfusionMatrixDisplay, confusion_matrix\n",
    "from sklearn.utils.class_weight import compute_sample_weight\n",
    "from sklearn.linear_model import LogisticRegression\n",
    "from sklearn.preprocessing import StandardScaler\n",
    "from sklearn.ensemble import VotingClassifier\n",
    "\n",
    "from spacy.lang.fr.stop_words import STOP_WORDS as fr_stop\n",
    "from spacy.lang.en.stop_words import STOP_WORDS as en_stop"
   ]
  },
  {
   "cell_type": "code",
   "execution_count": null,
   "id": "9592edd5-f84f-4165-b7e9-fdd4ac3947a3",
   "metadata": {},
   "outputs": [],
   "source": [
    "dataset = load_dataset(\"gustavecortal/DreamBank-annotated\")\n",
    "df = dataset[\"train\"].to_pandas()\n",
    "df = df.sample(frac = 1)\n",
    "df[\"report\"] = df[\"report\"].astype(str)\n",
    "df = df.query(\"emotion == 'CO D' or emotion == 'AN D' or emotion == 'SD D' or emotion == 'AP D' or emotion == 'HA D'\")[[\"report\", \"emotion\"]]\n",
    "df.head()"
   ]
  },
  {
   "cell_type": "markdown",
   "id": "3a162457-ae00-48c0-bf6d-ab2c38ddec5f",
   "metadata": {},
   "source": [
    "## Preprocessing and visualization"
   ]
  },
  {
   "cell_type": "markdown",
   "id": "59efd75a-6d2a-4709-a2e7-1bc4d355b4ec",
   "metadata": {},
   "source": [
    "Convert code to emotion class according to the annotation guideline : https://dreams.ucsc.edu/Coding/emotions.html"
   ]
  },
  {
   "cell_type": "code",
   "execution_count": null,
   "id": "e0af0d38-75fb-45f7-9103-4cb0c6c41139",
   "metadata": {},
   "outputs": [],
   "source": [
    "def to_emotion_class(emotion):\n",
    "    \n",
    "    if emotion == \"AP D\":\n",
    "        return \"fear\"\n",
    "    elif emotion == \"CO D\":\n",
    "        return \"confusion\"\n",
    "    elif emotion == \"SD D\":\n",
    "        return \"sadness\"\n",
    "    elif emotion == \"AN D\":\n",
    "        return \"anger\"\n",
    "    else:\n",
    "        return \"happiness\"\n",
    "\n",
    "df[\"emotion\"] = df[\"emotion\"].apply(lambda x: to_emotion_class(x))\n",
    "df[\"report\"] = df[\"report\"].apply(lambda x: x.lower()) # simple preprocessing (lowercase only)\n",
    "df.head()"
   ]
  },
  {
   "cell_type": "code",
   "execution_count": null,
   "id": "3df000fd-33c6-4b49-b53c-c26a005dded3",
   "metadata": {},
   "outputs": [],
   "source": [
    "plt.figure(figsize=(10, 6))\n",
    "sns.countplot(x='emotion', data=df)\n",
    "\n",
    "plt.title('Distribution of emotions') \n",
    "plt.xlabel('Emotion')\n",
    "plt.ylabel('Count')\n",
    "plt.xticks(rotation=45)\n",
    "\n",
    "plt.show()"
   ]
  },
  {
   "cell_type": "markdown",
   "id": "c46e5ddf-c780-43e6-b5e0-a77d6a7f66c7",
   "metadata": {},
   "source": [
    "## Training and test sets"
   ]
  },
  {
   "cell_type": "code",
   "execution_count": null,
   "id": "cdc43018-b3db-46f9-9a3d-1695a62307e1",
   "metadata": {},
   "outputs": [],
   "source": [
    "X = df['report']\n",
    "y = df['emotion']"
   ]
  },
  {
   "cell_type": "code",
   "execution_count": null,
   "id": "144dcfd1-a7df-4a8c-a4b8-e1d301afa2a7",
   "metadata": {},
   "outputs": [],
   "source": [
    "X_train, X_test, y_train, y_test = train_test_split(X, y, test_size=0.2, random_state=42)\n",
    "sample_weights = compute_sample_weight(class_weight='balanced', y=y_train)"
   ]
  },
  {
   "cell_type": "markdown",
   "id": "6f8f1353-cd7b-4e0b-afc7-6184e1a86888",
   "metadata": {},
   "source": [
    "## Tokenization functions"
   ]
  },
  {
   "cell_type": "code",
   "execution_count": null,
   "id": "c76949c3-2986-4f74-91a1-8782ed3af58e",
   "metadata": {},
   "outputs": [],
   "source": [
    "def lemma_tokenize(doc):\n",
    "    wnl = WordNetLemmatizer()\n",
    "    return [wnl.lemmatize(t) for t in word_tokenize(doc)]\n",
    "\n",
    "def char_tokenize(doc):\n",
    "    return [char for char in doc]\n",
    "\n",
    "def byte_tokenize(doc):\n",
    "    tokens = doc.encode(\"utf-8\")\n",
    "    tokens = list(map(int, tokens))\n",
    "    return [str(token) for token in tokens]\n",
    "\n",
    "def gpt_tokenize(doc):\n",
    "    enc = tiktoken.encoding_for_model(\"gpt-4\")\n",
    "    tokens = enc.encode(doc)\n",
    "    return [str(token) for token in tokens]"
   ]
  },
  {
   "cell_type": "markdown",
   "id": "7ac26f4c-aaf1-4312-8420-b029d3925ab0",
   "metadata": {},
   "source": [
    "## Training: Bag of Words (CountVectorizer) and Naive Bayes (MultinomialNB)\n",
    "\n",
    "https://scikit-learn.org/stable/tutorial/text_analytics/working_with_text_data.html\n",
    "\n",
    "https://scikit-learn.org/stable/modules/generated/sklearn.naive_bayes.MultinomialNB.html\n",
    "\n",
    "https://scikit-learn.org/stable/modules/generated/sklearn.feature_extraction.text.CountVectorizer.html"
   ]
  },
  {
   "cell_type": "code",
   "execution_count": 10,
   "id": "3f3b13ac-1ff0-4fd7-af59-39884f7ad83e",
   "metadata": {},
   "outputs": [],
   "source": [
    "model = make_pipeline(CountVectorizer(ngram_range = (1,1)), MultinomialNB())\n",
    "#model = make_pipeline(CountVectorizer(ngram_range = (1,1), stop_words = en_stop), MultinomialNB())\n",
    "#model = make_pipeline(CountVectorizer(tokenizer=word_tokenize, ngram_range = (1,1)), MultinomialNB())\n",
    "#model = make_pipeline(CountVectorizer(tokenizer=lemma_tokenize, ngram_range = (1,1)), MultinomialNB())\n",
    "#model = make_pipeline(CountVectorizer(tokenizer=char_tokenize, ngram_range = (1,1)), MultinomialNB())\n",
    "#model = make_pipeline(CountVectorizer(tokenizer=char_tokenize, ngram_range = (2,2)), MultinomialNB())\n",
    "#model = make_pipeline(CountVectorizer(tokenizer=char_tokenize, ngram_range = (3,3)), MultinomialNB())\n",
    "#model = make_pipeline(CountVectorizer(tokenizer=byte_tokenize, ngram_range = (1,1)), MultinomialNB())\n",
    "#model = make_pipeline(CountVectorizer(tokenizer=byte_tokenize, ngram_range = (2,2)), MultinomialNB())\n",
    "#model = make_pipeline(CountVectorizer(tokenizer=byte_tokenize, ngram_range = (3,3)), MultinomialNB())\n",
    "#model = make_pipeline(CountVectorizer(tokenizer=gpt_tokenize, ngram_range = (1,1)), MultinomialNB())"
   ]
  },
  {
   "cell_type": "code",
   "execution_count": 11,
   "id": "fd8370cd-706b-46bb-9b23-f2837eaa64b7",
   "metadata": {},
   "outputs": [
    {
     "name": "stdout",
     "output_type": "stream",
     "text": [
      "Features dimension: (4520, 21298)\n",
      "Classification Report:\n",
      "               precision    recall  f1-score   support\n",
      "\n",
      "       anger       0.78      0.27      0.41       186\n",
      "   confusion       0.41      0.31      0.35       203\n",
      "        fear       0.50      0.87      0.63       431\n",
      "   happiness       0.49      0.42      0.45       184\n",
      "     sadness       0.56      0.04      0.07       126\n",
      "\n",
      "    accuracy                           0.50      1130\n",
      "   macro avg       0.55      0.38      0.38      1130\n",
      "weighted avg       0.54      0.50      0.45      1130\n",
      "\n"
     ]
    }
   ],
   "source": [
    "model.fit(X_train, y_train)\n",
    "#model.fit(X_train, y_train, multinomialnb__sample_weight=sample_weights)\n",
    "\n",
    "y_pred = model.predict(X_test)\n",
    "\n",
    "print(f\"Features dimension: {len(X_train), len(model[0].vocabulary_)}\")\n",
    "print(\"Classification Report:\\n\", classification_report(y_test, y_pred))"
   ]
  },
  {
   "cell_type": "markdown",
   "id": "8a44084f-57db-4211-916e-07eab0d94b1a",
   "metadata": {},
   "source": [
    "## Plot confusion matrix"
   ]
  },
  {
   "cell_type": "code",
   "execution_count": 12,
   "id": "a56408c8-d136-426f-8eb9-4e8252e4eaa2",
   "metadata": {},
   "outputs": [
    {
     "data": {
      "image/png": "[encoded data removed]",
      "text/plain": [
       "<Figure size 640x480 with 2 Axes>"
      ]
     },
     "metadata": {},
     "output_type": "display_data"
    }
   ],
   "source": [
    "cm = confusion_matrix(y_test, y_pred, labels=model.classes_)\n",
    "disp = ConfusionMatrixDisplay(confusion_matrix=cm,\n",
    "                               display_labels=model.classes_)\n",
    "disp.plot()\n",
    "plt.show()"
   ]
  },
  {
   "cell_type": "markdown",
   "id": "cc8fa3d8-ffa2-4da3-bccb-ccf2f1927910",
   "metadata": {},
   "source": [
    "## Cross validation\n",
    "https://scikit-learn.org/stable/modules/cross_validation.html"
   ]
  },
  {
   "cell_type": "code",
   "execution_count": 40,
   "id": "bb94bd7a-705b-43b1-93a6-ab680ab91d43",
   "metadata": {},
   "outputs": [
    {
     "name": "stdout",
     "output_type": "stream",
     "text": [
      "Mean f1_macro: 0.40828471010718187\n",
      "Standard deviation f1_macro: 0.01451110152051428\n"
     ]
    }
   ],
   "source": [
    "# Perform cross-validation and print the mean accuracy\n",
    "scoring = 'f1_macro'\n",
    "scores = cross_val_score(model, X, y, cv=5, scoring=scoring, n_jobs = -1)\n",
    "print(f\"Mean {scoring}: {scores.mean()}\")\n",
    "print(f\"Standard deviation {scoring}: {scores.std()}\")"
   ]
  },
  {
   "cell_type": "markdown",
   "id": "8d358895-ae2b-4952-8e2d-631110754f9c",
   "metadata": {},
   "source": [
    "# Naive Bayes from scratch"
   ]
  },
  {
   "cell_type": "code",
   "execution_count": 102,
   "id": "ea5881b2-7baf-4616-9b7d-8f48c98caf63",
   "metadata": {},
   "outputs": [
    {
     "data": {
      "text/plain": [
       "1040     happiness\n",
       "25797         fear\n",
       "16279         fear\n",
       "1840         anger\n",
       "26616         fear\n",
       "Name: emotion, dtype: object"
      ]
     },
     "execution_count": 102,
     "metadata": {},
     "output_type": "execute_result"
    }
   ],
   "source": [
    "y_train.head()"
   ]
  },
  {
   "cell_type": "markdown",
   "id": "0ebe7bf7-f47b-41b9-945f-34c5b0728d2b",
   "metadata": {},
   "source": [
    "### Calculate priors and vocabulary"
   ]
  },
  {
   "cell_type": "code",
   "execution_count": 103,
   "id": "bd9c7da0-2b53-41e7-84b0-1b877a7ad046",
   "metadata": {},
   "outputs": [
    {
     "name": "stdout",
     "output_type": "stream",
     "text": [
      "{'happiness': 0.1820796460176991, 'fear': 0.3911504424778761, 'anger': 0.14115044247787611, 'confusion': 0.18871681415929203, 'sadness': 0.09690265486725663}\n"
     ]
    }
   ],
   "source": [
    "from collections import Counter\n",
    "\n",
    "count_c = Counter(y_train)\n",
    "\n",
    "priors = {k:v/len(y_train) for k, v in count_c.items()}\n",
    "print(priors)\n",
    "\n",
    "train_strings = \" \".join(X_train)\n",
    "train_tokens = word_tokenize(train_strings)\n",
    "vocabulary = set(train_tokens)\n",
    "V = len(vocabulary)\n",
    "classes = set(y_train)"
   ]
  },
  {
   "cell_type": "markdown",
   "id": "3d55c7f6-cc07-4307-8619-4647a0cccdab",
   "metadata": {},
   "source": [
    "### Calculate likelihoods "
   ]
  },
  {
   "cell_type": "code",
   "execution_count": 104,
   "id": "f3239b70-a813-47da-989d-01733bb628d2",
   "metadata": {},
   "outputs": [
    {
     "data": {
      "text/html": [
       "<div>\n",
       "<style scoped>\n",
       "    .dataframe tbody tr th:only-of-type {\n",
       "        vertical-align: middle;\n",
       "    }\n",
       "\n",
       "    .dataframe tbody tr th {\n",
       "        vertical-align: top;\n",
       "    }\n",
       "\n",
       "    .dataframe thead th {\n",
       "        text-align: right;\n",
       "    }\n",
       "</style>\n",
       "<table border=\"1\" class=\"dataframe\">\n",
       "  <thead>\n",
       "    <tr style=\"text-align: right;\">\n",
       "      <th></th>\n",
       "      <th>document</th>\n",
       "      <th>emotion</th>\n",
       "    </tr>\n",
       "  </thead>\n",
       "  <tbody>\n",
       "    <tr>\n",
       "      <th>0</th>\n",
       "      <td>a man gets out of prison. he's walking around ...</td>\n",
       "      <td>happiness</td>\n",
       "    </tr>\n",
       "    <tr>\n",
       "      <th>1</th>\n",
       "      <td>another the agency dream.  at first i was outs...</td>\n",
       "      <td>fear</td>\n",
       "    </tr>\n",
       "    <tr>\n",
       "      <th>2</th>\n",
       "      <td>i was at memorial stadium, supposed to do a dj...</td>\n",
       "      <td>fear</td>\n",
       "    </tr>\n",
       "    <tr>\n",
       "      <th>3</th>\n",
       "      <td>i am driving my van, but can't find the keys t...</td>\n",
       "      <td>anger</td>\n",
       "    </tr>\n",
       "    <tr>\n",
       "      <th>4</th>\n",
       "      <td>there are four of us and we were trying to ste...</td>\n",
       "      <td>fear</td>\n",
       "    </tr>\n",
       "  </tbody>\n",
       "</table>\n",
       "</div>"
      ],
      "text/plain": [
       "                                            document    emotion\n",
       "0  a man gets out of prison. he's walking around ...  happiness\n",
       "1  another the agency dream.  at first i was outs...       fear\n",
       "2  i was at memorial stadium, supposed to do a dj...       fear\n",
       "3  i am driving my van, but can't find the keys t...      anger\n",
       "4  there are four of us and we were trying to ste...       fear"
      ]
     },
     "execution_count": 104,
     "metadata": {},
     "output_type": "execute_result"
    }
   ],
   "source": [
    "train_df = pd.DataFrame(zip(X_train, y_train), columns = [\"document\", \"emotion\"])\n",
    "train_df.head()"
   ]
  },
  {
   "cell_type": "code",
   "execution_count": 113,
   "id": "14f4a5a5-fe90-42ec-b313-4242d0da56d1",
   "metadata": {},
   "outputs": [
    {
     "name": "stdout",
     "output_type": "stream",
     "text": [
      "7036\n",
      "0.04408346854268335\n"
     ]
    }
   ],
   "source": [
    "mega_dict = dict()\n",
    "prob_dict = dict()\n",
    "k = 1\n",
    "\n",
    "for c in classes:\n",
    "    class_df = train_df.query(f\"emotion == '{c}'\")\n",
    "    mega_document = class_df[\"document\"]\n",
    "    mega_strings = \" \".join(mega_document)\n",
    "    mega_tokens = word_tokenize(mega_strings)\n",
    "    mega_count = Counter(mega_tokens)\n",
    "    mega_dict[c] = mega_count\n",
    "    prob_dict[c] = dict()\n",
    "    \n",
    "\n",
    "    for token in vocabulary:\n",
    "        prob_dict[c][token] = (mega_dict[c][token] + k ) / (len(mega_tokens) + V)\n",
    "\n",
    "print(mega_dict[\"anger\"][\"i\"])\n",
    "print(prob_dict[\"anger\"][\"i\"])"
   ]
  },
  {
   "cell_type": "markdown",
   "id": "a6102d5f-01cd-448d-b17e-c6bc34f43aef",
   "metadata": {},
   "source": [
    "### Prediction"
   ]
  },
  {
   "cell_type": "code",
   "execution_count": 114,
   "id": "e592166b-db31-423f-9da1-55d713ddc13e",
   "metadata": {},
   "outputs": [
    {
     "name": "stdout",
     "output_type": "stream",
     "text": [
      "{'anger': 3.8438023650338485e-12, 'happiness': 5.738926582807367e-12, 'confusion': 7.1664344130907345e-12, 'sadness': 2.4003655911873422e-12, 'fear': 2.254136682259967e-11}\n",
      "fear\n"
     ]
    }
   ],
   "source": [
    "import math\n",
    "\n",
    "test_tokens = word_tokenize(\"i don't like it\")\n",
    "\n",
    "pred_dict = dict()\n",
    "\n",
    "for c in classes:\n",
    "    sum = math.log2(priors[c])\n",
    "    for token in test_tokens:\n",
    "        #print(prob_dict[c][token])\n",
    "        sum += math.log2(prob_dict[c][token])\n",
    "    sum = math.pow(2, sum)\n",
    "    pred_dict[c] = sum\n",
    "print(pred_dict)\n",
    "print(max(pred_dict, key=pred_dict.get))"
   ]
  },
  {
   "cell_type": "code",
   "execution_count": 115,
   "id": "2b7afc94-4bb6-47f3-9880-b66cd63b7475",
   "metadata": {},
   "outputs": [],
   "source": [
    "import math\n",
    "\n",
    "test_tokens = [word_tokenize(text) for text in X_test]\n",
    "\n",
    "pred_dict = dict()\n",
    "preds = list()\n",
    "\n",
    "for report_tokens in test_tokens:\n",
    "    for c in classes:\n",
    "        sum = math.log2(priors[c])\n",
    "        for token in report_tokens:\n",
    "            if token in prob_dict[c]: # remove unknown tokens\n",
    "                sum += math.log2(prob_dict[c][token])\n",
    "        sum = math.pow(2, sum)\n",
    "        pred_dict[c] = sum\n",
    "    preds.append(max(pred_dict, key=pred_dict.get))"
   ]
  },
  {
   "cell_type": "markdown",
   "id": "584e7728-e8ce-4530-9a91-e82c8cc415f2",
   "metadata": {},
   "source": [
    "### Evaluation"
   ]
  },
  {
   "cell_type": "code",
   "execution_count": 116,
   "id": "d410d612-9800-4a3a-901b-98862e531dc0",
   "metadata": {},
   "outputs": [
    {
     "name": "stdout",
     "output_type": "stream",
     "text": [
      "              precision    recall  f1-score   support\n",
      "\n",
      "       anger       0.75      0.18      0.30       754\n",
      "   confusion       0.10      0.53      0.17        38\n",
      "        fear       0.33      0.54      0.41       262\n",
      "   happiness       0.21      0.53      0.30        72\n",
      "     sadness       0.03      1.00      0.06         4\n",
      "\n",
      "    accuracy                           0.30      1130\n",
      "   macro avg       0.28      0.56      0.25      1130\n",
      "weighted avg       0.59      0.30      0.32      1130\n",
      "\n"
     ]
    }
   ],
   "source": [
    "from sklearn.metrics import classification_report\n",
    "\n",
    "print(classification_report(preds, list(y_test)))"
   ]
  }
 ],
 "metadata": {
  "kernelspec": {
   "display_name": "Python 3 (ipykernel)",
   "language": "python",
   "name": "python3"
  },
  "language_info": {
   "codemirror_mode": {
    "name": "ipython",
    "version": 3
   },
   "file_extension": ".py",
   "mimetype": "text/x-python",
   "name": "python",
   "nbconvert_exporter": "python",
   "pygments_lexer": "ipython3",
   "version": "3.9.18"
  }
 },
 "nbformat": 4,
 "nbformat_minor": 5
}
